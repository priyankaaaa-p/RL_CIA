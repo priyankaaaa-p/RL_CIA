{
 "cells": [
  {
   "cell_type": "markdown",
   "id": "23fed103",
   "metadata": {},
   "source": [
    "## K-arm bandit based solution for a news value maximiser"
   ]
  },
  {
   "cell_type": "markdown",
   "id": "8882a372",
   "metadata": {},
   "source": [
    "Solution:\n",
    "\n",
    "1. Arm: Each article or group of articles is treated as an arm.\n",
    "2. Reward: Reward for each article is based on views generated.\n",
    "3. Exploration vs. Exploitation: Use an epsilon-greedy strategy to balance between exploring new articles and exploiting those with known high views.\n",
    "4. Dataset: MIND- MIcrosoft News Dataset"
   ]
  },
  {
   "cell_type": "code",
   "execution_count": 1,
   "id": "69497db4",
   "metadata": {},
   "outputs": [],
   "source": [
    "import numpy as np\n",
    "import pandas as pd\n",
    "import random"
   ]
  },
  {
   "cell_type": "code",
   "execution_count": 5,
   "id": "8c72f63a",
   "metadata": {},
   "outputs": [],
   "source": [
    "# Load news.tsv dataset\n",
    "df = pd.read_csv(r\"C:\\Users\\PRIYANKA\\Desktop\\SEM VII\\reinforcement learning\\MINDsmall_dev\\news.tsv\",  sep='\\t', header=None)"
   ]
  },
  {
   "cell_type": "code",
   "execution_count": 8,
   "id": "3c459404",
   "metadata": {},
   "outputs": [
    {
     "data": {
      "text/html": [
       "<div>\n",
       "<style scoped>\n",
       "    .dataframe tbody tr th:only-of-type {\n",
       "        vertical-align: middle;\n",
       "    }\n",
       "\n",
       "    .dataframe tbody tr th {\n",
       "        vertical-align: top;\n",
       "    }\n",
       "\n",
       "    .dataframe thead th {\n",
       "        text-align: right;\n",
       "    }\n",
       "</style>\n",
       "<table border=\"1\" class=\"dataframe\">\n",
       "  <thead>\n",
       "    <tr style=\"text-align: right;\">\n",
       "      <th></th>\n",
       "      <th>0</th>\n",
       "      <th>1</th>\n",
       "      <th>2</th>\n",
       "      <th>3</th>\n",
       "      <th>4</th>\n",
       "      <th>5</th>\n",
       "      <th>6</th>\n",
       "      <th>7</th>\n",
       "    </tr>\n",
       "  </thead>\n",
       "  <tbody>\n",
       "    <tr>\n",
       "      <th>0</th>\n",
       "      <td>N55528</td>\n",
       "      <td>lifestyle</td>\n",
       "      <td>lifestyleroyals</td>\n",
       "      <td>The Brands Queen Elizabeth, Prince Charles, an...</td>\n",
       "      <td>Shop the notebooks, jackets, and more that the...</td>\n",
       "      <td>https://assets.msn.com/labs/mind/AAGH0ET.html</td>\n",
       "      <td>[{\"Label\": \"Prince Philip, Duke of Edinburgh\",...</td>\n",
       "      <td>[]</td>\n",
       "    </tr>\n",
       "    <tr>\n",
       "      <th>1</th>\n",
       "      <td>N18955</td>\n",
       "      <td>health</td>\n",
       "      <td>medical</td>\n",
       "      <td>Dispose of unwanted prescription drugs during ...</td>\n",
       "      <td>NaN</td>\n",
       "      <td>https://assets.msn.com/labs/mind/AAISxPN.html</td>\n",
       "      <td>[{\"Label\": \"Drug Enforcement Administration\", ...</td>\n",
       "      <td>[]</td>\n",
       "    </tr>\n",
       "    <tr>\n",
       "      <th>2</th>\n",
       "      <td>N61837</td>\n",
       "      <td>news</td>\n",
       "      <td>newsworld</td>\n",
       "      <td>The Cost of Trump's Aid Freeze in the Trenches...</td>\n",
       "      <td>Lt. Ivan Molchanets peeked over a parapet of s...</td>\n",
       "      <td>https://assets.msn.com/labs/mind/AAJgNsz.html</td>\n",
       "      <td>[]</td>\n",
       "      <td>[{\"Label\": \"Ukraine\", \"Type\": \"G\", \"WikidataId...</td>\n",
       "    </tr>\n",
       "    <tr>\n",
       "      <th>3</th>\n",
       "      <td>N53526</td>\n",
       "      <td>health</td>\n",
       "      <td>voices</td>\n",
       "      <td>I Was An NBA Wife. Here's How It Affected My M...</td>\n",
       "      <td>I felt like I was a fraud, and being an NBA wi...</td>\n",
       "      <td>https://assets.msn.com/labs/mind/AACk2N6.html</td>\n",
       "      <td>[]</td>\n",
       "      <td>[{\"Label\": \"National Basketball Association\", ...</td>\n",
       "    </tr>\n",
       "    <tr>\n",
       "      <th>4</th>\n",
       "      <td>N38324</td>\n",
       "      <td>health</td>\n",
       "      <td>medical</td>\n",
       "      <td>How to Get Rid of Skin Tags, According to a De...</td>\n",
       "      <td>They seem harmless, but there's a very good re...</td>\n",
       "      <td>https://assets.msn.com/labs/mind/AAAKEkt.html</td>\n",
       "      <td>[{\"Label\": \"Skin tag\", \"Type\": \"C\", \"WikidataI...</td>\n",
       "      <td>[{\"Label\": \"Skin tag\", \"Type\": \"C\", \"WikidataI...</td>\n",
       "    </tr>\n",
       "  </tbody>\n",
       "</table>\n",
       "</div>"
      ],
      "text/plain": [
       "        0          1                2  \\\n",
       "0  N55528  lifestyle  lifestyleroyals   \n",
       "1  N18955     health          medical   \n",
       "2  N61837       news        newsworld   \n",
       "3  N53526     health           voices   \n",
       "4  N38324     health          medical   \n",
       "\n",
       "                                                   3  \\\n",
       "0  The Brands Queen Elizabeth, Prince Charles, an...   \n",
       "1  Dispose of unwanted prescription drugs during ...   \n",
       "2  The Cost of Trump's Aid Freeze in the Trenches...   \n",
       "3  I Was An NBA Wife. Here's How It Affected My M...   \n",
       "4  How to Get Rid of Skin Tags, According to a De...   \n",
       "\n",
       "                                                   4  \\\n",
       "0  Shop the notebooks, jackets, and more that the...   \n",
       "1                                                NaN   \n",
       "2  Lt. Ivan Molchanets peeked over a parapet of s...   \n",
       "3  I felt like I was a fraud, and being an NBA wi...   \n",
       "4  They seem harmless, but there's a very good re...   \n",
       "\n",
       "                                               5  \\\n",
       "0  https://assets.msn.com/labs/mind/AAGH0ET.html   \n",
       "1  https://assets.msn.com/labs/mind/AAISxPN.html   \n",
       "2  https://assets.msn.com/labs/mind/AAJgNsz.html   \n",
       "3  https://assets.msn.com/labs/mind/AACk2N6.html   \n",
       "4  https://assets.msn.com/labs/mind/AAAKEkt.html   \n",
       "\n",
       "                                                   6  \\\n",
       "0  [{\"Label\": \"Prince Philip, Duke of Edinburgh\",...   \n",
       "1  [{\"Label\": \"Drug Enforcement Administration\", ...   \n",
       "2                                                 []   \n",
       "3                                                 []   \n",
       "4  [{\"Label\": \"Skin tag\", \"Type\": \"C\", \"WikidataI...   \n",
       "\n",
       "                                                   7  \n",
       "0                                                 []  \n",
       "1                                                 []  \n",
       "2  [{\"Label\": \"Ukraine\", \"Type\": \"G\", \"WikidataId...  \n",
       "3  [{\"Label\": \"National Basketball Association\", ...  \n",
       "4  [{\"Label\": \"Skin tag\", \"Type\": \"C\", \"WikidataI...  "
      ]
     },
     "execution_count": 8,
     "metadata": {},
     "output_type": "execute_result"
    }
   ],
   "source": [
    "df.head(5)"
   ]
  },
  {
   "cell_type": "code",
   "execution_count": 13,
   "id": "f19ed9e7",
   "metadata": {},
   "outputs": [],
   "source": [
    "#Assign column names\n",
    "df.columns = ['news_id', 'category', 'subcategory', 'title', 'abstract', 'url', 'label1','label2']"
   ]
  },
  {
   "cell_type": "code",
   "execution_count": 32,
   "id": "4c053965",
   "metadata": {},
   "outputs": [
    {
     "data": {
      "text/plain": [
       "array(['lifestyle', 'health', 'news', 'sports', 'weather',\n",
       "       'entertainment', 'foodanddrink', 'autos', 'travel', 'video', 'tv',\n",
       "       'finance', 'movies', 'music', 'kids', 'middleeast', 'games'],\n",
       "      dtype=object)"
      ]
     },
     "execution_count": 32,
     "metadata": {},
     "output_type": "execute_result"
    }
   ],
   "source": [
    "df.category.unique()"
   ]
  },
  {
   "cell_type": "code",
   "execution_count": 11,
   "id": "c5e1da52",
   "metadata": {},
   "outputs": [],
   "source": [
    "#Load behaviour.tsv dataset\n",
    "behav_df = pd.read_csv(r\"C:\\Users\\PRIYANKA\\Desktop\\SEM VII\\reinforcement learning\\MINDsmall_train\\behaviors.tsv\", sep='\\t', header=None)\n",
    "behav_df.columns = ['impression_id', 'user_id', 'time', 'history', 'impressions']"
   ]
  },
  {
   "cell_type": "code",
   "execution_count": 12,
   "id": "b104107a",
   "metadata": {},
   "outputs": [
    {
     "data": {
      "text/html": [
       "<div>\n",
       "<style scoped>\n",
       "    .dataframe tbody tr th:only-of-type {\n",
       "        vertical-align: middle;\n",
       "    }\n",
       "\n",
       "    .dataframe tbody tr th {\n",
       "        vertical-align: top;\n",
       "    }\n",
       "\n",
       "    .dataframe thead th {\n",
       "        text-align: right;\n",
       "    }\n",
       "</style>\n",
       "<table border=\"1\" class=\"dataframe\">\n",
       "  <thead>\n",
       "    <tr style=\"text-align: right;\">\n",
       "      <th></th>\n",
       "      <th>impression_id</th>\n",
       "      <th>user_id</th>\n",
       "      <th>time</th>\n",
       "      <th>history</th>\n",
       "      <th>impressions</th>\n",
       "    </tr>\n",
       "  </thead>\n",
       "  <tbody>\n",
       "    <tr>\n",
       "      <th>0</th>\n",
       "      <td>1</td>\n",
       "      <td>U13740</td>\n",
       "      <td>11/11/2019 9:05:58 AM</td>\n",
       "      <td>N55189 N42782 N34694 N45794 N18445 N63302 N104...</td>\n",
       "      <td>N55689-1 N35729-0</td>\n",
       "    </tr>\n",
       "    <tr>\n",
       "      <th>1</th>\n",
       "      <td>2</td>\n",
       "      <td>U91836</td>\n",
       "      <td>11/12/2019 6:11:30 PM</td>\n",
       "      <td>N31739 N6072 N63045 N23979 N35656 N43353 N8129...</td>\n",
       "      <td>N20678-0 N39317-0 N58114-0 N20495-0 N42977-0 N...</td>\n",
       "    </tr>\n",
       "    <tr>\n",
       "      <th>2</th>\n",
       "      <td>3</td>\n",
       "      <td>U73700</td>\n",
       "      <td>11/14/2019 7:01:48 AM</td>\n",
       "      <td>N10732 N25792 N7563 N21087 N41087 N5445 N60384...</td>\n",
       "      <td>N50014-0 N23877-0 N35389-0 N49712-0 N16844-0 N...</td>\n",
       "    </tr>\n",
       "    <tr>\n",
       "      <th>3</th>\n",
       "      <td>4</td>\n",
       "      <td>U34670</td>\n",
       "      <td>11/11/2019 5:28:05 AM</td>\n",
       "      <td>N45729 N2203 N871 N53880 N41375 N43142 N33013 ...</td>\n",
       "      <td>N35729-0 N33632-0 N49685-1 N27581-0</td>\n",
       "    </tr>\n",
       "    <tr>\n",
       "      <th>4</th>\n",
       "      <td>5</td>\n",
       "      <td>U8125</td>\n",
       "      <td>11/12/2019 4:11:21 PM</td>\n",
       "      <td>N10078 N56514 N14904 N33740</td>\n",
       "      <td>N39985-0 N36050-0 N16096-0 N8400-1 N22407-0 N6...</td>\n",
       "    </tr>\n",
       "  </tbody>\n",
       "</table>\n",
       "</div>"
      ],
      "text/plain": [
       "   impression_id user_id                   time  \\\n",
       "0              1  U13740  11/11/2019 9:05:58 AM   \n",
       "1              2  U91836  11/12/2019 6:11:30 PM   \n",
       "2              3  U73700  11/14/2019 7:01:48 AM   \n",
       "3              4  U34670  11/11/2019 5:28:05 AM   \n",
       "4              5   U8125  11/12/2019 4:11:21 PM   \n",
       "\n",
       "                                             history  \\\n",
       "0  N55189 N42782 N34694 N45794 N18445 N63302 N104...   \n",
       "1  N31739 N6072 N63045 N23979 N35656 N43353 N8129...   \n",
       "2  N10732 N25792 N7563 N21087 N41087 N5445 N60384...   \n",
       "3  N45729 N2203 N871 N53880 N41375 N43142 N33013 ...   \n",
       "4                        N10078 N56514 N14904 N33740   \n",
       "\n",
       "                                         impressions  \n",
       "0                                  N55689-1 N35729-0  \n",
       "1  N20678-0 N39317-0 N58114-0 N20495-0 N42977-0 N...  \n",
       "2  N50014-0 N23877-0 N35389-0 N49712-0 N16844-0 N...  \n",
       "3                N35729-0 N33632-0 N49685-1 N27581-0  \n",
       "4  N39985-0 N36050-0 N16096-0 N8400-1 N22407-0 N6...  "
      ]
     },
     "execution_count": 12,
     "metadata": {},
     "output_type": "execute_result"
    }
   ],
   "source": [
    "behav_df.head(5)"
   ]
  },
  {
   "cell_type": "code",
   "execution_count": 39,
   "id": "8b2db7ac",
   "metadata": {},
   "outputs": [],
   "source": [
    "# Define aligned articles as those in certain categories (Example: \"Sports\" and \"Games\")\n",
    "aligned_categ= [\"sports\", \"games\"]\n",
    "df['aligned'] = df['category'].str.lower().isin(aligned_categ)"
   ]
  },
  {
   "cell_type": "code",
   "execution_count": 40,
   "id": "1d1cbf3c",
   "metadata": {},
   "outputs": [],
   "source": [
    "# Analyze behaviour to count views per article\n",
    "def analyze_behav(behav):\n",
    "    behav_list = behav.split(' ')\n",
    "    views = [beh.split('-')[0] for beh in behav_list if beh.split('-')[1] == '1']\n",
    "    return views"
   ]
  },
  {
   "cell_type": "code",
   "execution_count": 41,
   "id": "5cd85b72",
   "metadata": {},
   "outputs": [],
   "source": [
    "# Count views per article based on impressions\n",
    "behav_df['viewed_articles'] = behav_df['impressions'].apply(analyze_behav)\n",
    "all_views = behav_df.explode('viewed_articles')['viewed_articles'].value_counts().to_dict()"
   ]
  },
  {
   "cell_type": "code",
   "execution_count": 42,
   "id": "febd78db",
   "metadata": {},
   "outputs": [
    {
     "name": "stdout",
     "output_type": "stream",
     "text": [
      "  news_id   category      subcategory  \\\n",
      "0  N55528  lifestyle  lifestyleroyals   \n",
      "1  N18955     health          medical   \n",
      "2  N61837       news        newsworld   \n",
      "3  N53526     health           voices   \n",
      "4  N38324     health          medical   \n",
      "\n",
      "                                               title  \\\n",
      "0  The Brands Queen Elizabeth, Prince Charles, an...   \n",
      "1  Dispose of unwanted prescription drugs during ...   \n",
      "2  The Cost of Trump's Aid Freeze in the Trenches...   \n",
      "3  I Was An NBA Wife. Here's How It Affected My M...   \n",
      "4  How to Get Rid of Skin Tags, According to a De...   \n",
      "\n",
      "                                            abstract  \\\n",
      "0  Shop the notebooks, jackets, and more that the...   \n",
      "1                                                NaN   \n",
      "2  Lt. Ivan Molchanets peeked over a parapet of s...   \n",
      "3  I felt like I was a fraud, and being an NBA wi...   \n",
      "4  They seem harmless, but there's a very good re...   \n",
      "\n",
      "                                             url  \\\n",
      "0  https://assets.msn.com/labs/mind/AAGH0ET.html   \n",
      "1  https://assets.msn.com/labs/mind/AAISxPN.html   \n",
      "2  https://assets.msn.com/labs/mind/AAJgNsz.html   \n",
      "3  https://assets.msn.com/labs/mind/AACk2N6.html   \n",
      "4  https://assets.msn.com/labs/mind/AAAKEkt.html   \n",
      "\n",
      "                                              label1  \\\n",
      "0  [{\"Label\": \"Prince Philip, Duke of Edinburgh\",...   \n",
      "1  [{\"Label\": \"Drug Enforcement Administration\", ...   \n",
      "2                                                 []   \n",
      "3                                                 []   \n",
      "4  [{\"Label\": \"Skin tag\", \"Type\": \"C\", \"WikidataI...   \n",
      "\n",
      "                                              label2  aligned  views  \\\n",
      "0                                                 []    False      0   \n",
      "1                                                 []    False      0   \n",
      "2  [{\"Label\": \"Ukraine\", \"Type\": \"G\", \"WikidataId...    False      0   \n",
      "3  [{\"Label\": \"National Basketball Association\", ...    False      0   \n",
      "4  [{\"Label\": \"Skin tag\", \"Type\": \"C\", \"WikidataI...    False      0   \n",
      "\n",
      "   total_views  trials  \n",
      "0          0.0     0.0  \n",
      "1          0.0     0.0  \n",
      "2          0.0     0.0  \n",
      "3          0.0     0.0  \n",
      "4          0.0     0.0  \n"
     ]
    }
   ],
   "source": [
    "# Merge view counts into the article DataFrame\n",
    "df['views'] = df['news_id'].map(all_views).fillna(0).astype(int)\n",
    "print(df.head())"
   ]
  },
  {
   "cell_type": "markdown",
   "id": "b030a40a",
   "metadata": {},
   "source": [
    "#### The K-arm bandit class below will prioritize articles with more views and explore other articles based on an epsilon-greedy strategy.\n",
    "#### The aligned articles will receive a view boost."
   ]
  },
  {
   "cell_type": "code",
   "execution_count": 43,
   "id": "64ddf040",
   "metadata": {},
   "outputs": [],
   "source": [
    "class KArmBandit:\n",
    "    def __init__(self, df, epsilon=0.1):\n",
    "        self.df = df\n",
    "        self.epsilon = epsilon\n",
    "        self.view_counts = np.zeros(len(df))\n",
    "        self.total_views = np.zeros(len(df))\n",
    "        self.trials = np.zeros(len(df))\n",
    "    \n",
    "    def choose_article(self):\n",
    "        # Explore with probability epsilon, otherwise exploit\n",
    "        if random.random() < self.epsilon:\n",
    "            return random.choice(range(len(self.df)))\n",
    "        else:\n",
    "            avg_views = np.divide(self.view_counts, self.trials, where=self.trials != 0)\n",
    "            return np.argmax(avg_views)\n",
    "    \n",
    "    def update_views(self, article_idx):\n",
    "        is_aligned = self.df.iloc[article_idx]['aligned']\n",
    "        # Generate views: aligned articles are prioritized\n",
    "        new_views = np.random.poisson(40 if is_aligned else 20)\n",
    "\n",
    "        self.view_counts[article_idx] += new_views\n",
    "        self.total_views[article_idx] += new_views\n",
    "        self.trials[article_idx] += 1\n",
    "    \n",
    "    def run_bandit(self, rounds=1000):\n",
    "        for _ in range(rounds):\n",
    "            article_idx = self.choose_article()\n",
    "            self.update_views(article_idx)\n",
    "    \n",
    "    def results(self):\n",
    "        self.df['total_views'] = self.total_views\n",
    "        self.df['trials'] = self.trials\n",
    "        return self.df.sort_values(by='total_views', ascending=False)"
   ]
  },
  {
   "cell_type": "code",
   "execution_count": 47,
   "id": "9fc942b0",
   "metadata": {},
   "outputs": [
    {
     "name": "stdout",
     "output_type": "stream",
     "text": [
      "      news_id category  aligned  views  total_views  trials\n",
      "8690   N17852   sports     True      0      17608.0   438.0\n",
      "635    N17423   sports     True      0        195.0     5.0\n",
      "11201  N27377   sports     True      0        158.0     4.0\n",
      "38339  N53335   sports     True      1        118.0     3.0\n",
      "29506  N27914   sports     True      0        113.0     3.0\n",
      "17260   N2570   sports     True      0         80.0     2.0\n",
      "42118   N2052   sports     True      0         36.0     1.0\n",
      "41972  N63721   sports     True      0         36.0     1.0\n",
      "32429  N29783   sports     True      0         34.0     1.0\n",
      "32585   N9611   sports     True      0         31.0     1.0\n",
      "2323    N5799    video    False      0         31.0     1.0\n",
      "11570  N37285   sports     True      0         30.0     1.0\n",
      "19467  N30949     news    False      0         30.0     1.0\n",
      "9895   N26462     news    False      0         29.0     1.0\n",
      "33779  N42905  finance    False      0         28.0     1.0\n",
      "29173  N19863     news    False      0         27.0     1.0\n",
      "23485  N11480     news    False      0         27.0     1.0\n",
      "37105  N13834     news    False      1         27.0     1.0\n",
      "30074   N8826    video    False      0         26.0     1.0\n",
      "4031   N45454  finance    False      0         25.0     1.0\n"
     ]
    }
   ],
   "source": [
    "bandit = KArmBandit(df, epsilon=0.1)\n",
    "bandit.run_bandit(rounds=500)\n",
    "results = bandit.results()\n",
    "print(results[['news_id', 'category', 'aligned', 'views', 'total_views', 'trials']].head(20))"
   ]
  },
  {
   "cell_type": "markdown",
   "id": "a03b0c67",
   "metadata": {},
   "source": [
    "- The above table summarizes which articles received the most views after the algorithm runs for 500 rounds and interatively prioritizes them each time.\n",
    "- The aligned column gives a Boolean indicating whether the article belongs to an \"Aligned\" category (Sports or Games).\n",
    "- The total_views is the total views (not the actual total views) accumulated during the bandit process.\n",
    "- The trials are the number of times the bandit algorithm picked this article."
   ]
  },
  {
   "cell_type": "code",
   "execution_count": null,
   "id": "9ce23b06",
   "metadata": {},
   "outputs": [],
   "source": []
  }
 ],
 "metadata": {
  "kernelspec": {
   "display_name": "Python 3 (ipykernel)",
   "language": "python",
   "name": "python3"
  },
  "language_info": {
   "codemirror_mode": {
    "name": "ipython",
    "version": 3
   },
   "file_extension": ".py",
   "mimetype": "text/x-python",
   "name": "python",
   "nbconvert_exporter": "python",
   "pygments_lexer": "ipython3",
   "version": "3.9.13"
  }
 },
 "nbformat": 4,
 "nbformat_minor": 5
}
